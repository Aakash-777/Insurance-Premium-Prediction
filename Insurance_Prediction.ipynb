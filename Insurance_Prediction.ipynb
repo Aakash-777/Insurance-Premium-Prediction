{
  "nbformat": 4,
  "nbformat_minor": 0,
  "metadata": {
    "colab": {
      "provenance": [],
      "authorship_tag": "ABX9TyNRPX56Q5uVooSRejejx9P7",
      "include_colab_link": true
    },
    "kernelspec": {
      "name": "python3",
      "display_name": "Python 3"
    },
    "language_info": {
      "name": "python"
    }
  },
  "cells": [
    {
      "cell_type": "markdown",
      "metadata": {
        "id": "view-in-github",
        "colab_type": "text"
      },
      "source": [
        "<a href=\"https://colab.research.google.com/github/Aakash-777/Insurance-Premium-Prediction/blob/main/Insurance_Prediction.ipynb\" target=\"_parent\"><img src=\"https://colab.research.google.com/assets/colab-badge.svg\" alt=\"Open In Colab\"/></a>"
      ]
    },
    {
      "cell_type": "code",
      "execution_count": 1,
      "metadata": {
        "id": "z4wdhzPRiXUk"
      },
      "outputs": [],
      "source": [
        "import numpy as np\n",
        "import pandas as pd\n",
        "import matplotlib.pyplot as plt"
      ]
    },
    {
      "cell_type": "code",
      "source": [
        "df=pd.read_csv(\"insurance.csv\")\n",
        "x=df.iloc[:,:-1].values\n",
        "y=df.iloc[:,-1].values\n",
        "print(x,\"\\n\\n\")\n",
        "print(y)"
      ],
      "metadata": {
        "colab": {
          "base_uri": "https://localhost:8080/"
        },
        "id": "vOuo9GqanBnH",
        "outputId": "0ddca77d-930f-41e9-c515-2f7cfb33aca6"
      },
      "execution_count": 2,
      "outputs": [
        {
          "output_type": "stream",
          "name": "stdout",
          "text": [
            "[[19 'female' 27.9 0 'yes' 'southwest']\n",
            " [18 'male' 33.8 1 'no' 'southeast']\n",
            " [28 'male' 33.0 3 'no' 'southeast']\n",
            " ...\n",
            " [18 'female' 36.9 0 'no' 'southeast']\n",
            " [21 'female' 25.8 0 'no' 'southwest']\n",
            " [61 'female' 29.1 0 'yes' 'northwest']] \n",
            "\n",
            "\n",
            "[16884.92  1725.55  4449.46 ...  1629.83  2007.95 29141.36]\n"
          ]
        }
      ]
    },
    {
      "cell_type": "code",
      "source": [
        "from sklearn.compose import ColumnTransformer\n",
        "from sklearn.preprocessing import OneHotEncoder\n",
        "ct=ColumnTransformer(transformers=[('encoder',OneHotEncoder(),[1,4,5])],remainder='passthrough')\n",
        "x=np.array(ct.fit_transform(x))\n",
        "print(x)\n",
        "print(x[0])"
      ],
      "metadata": {
        "colab": {
          "base_uri": "https://localhost:8080/"
        },
        "id": "FjXp52Venxjj",
        "outputId": "25f20083-cb2d-4022-a7eb-6a819489f2b2"
      },
      "execution_count": 5,
      "outputs": [
        {
          "output_type": "stream",
          "name": "stdout",
          "text": [
            "[[1.0 0.0 1.0 ... 19 27.9 0]\n",
            " [0.0 1.0 1.0 ... 18 33.8 1]\n",
            " [0.0 1.0 1.0 ... 28 33.0 3]\n",
            " ...\n",
            " [1.0 0.0 1.0 ... 18 36.9 0]\n",
            " [1.0 0.0 1.0 ... 21 25.8 0]\n",
            " [1.0 0.0 1.0 ... 61 29.1 0]]\n",
            "[1.0 0.0 1.0 0.0 1.0 0.0 1.0 0.0 1.0 0.0 1.0 19 27.9 0]\n"
          ]
        }
      ]
    },
    {
      "cell_type": "code",
      "source": [
        "from sklearn.model_selection import train_test_split\n",
        "x_train,x_test,y_train,y_test=train_test_split(x,y,test_size=0.1,random_state=0)\n",
        "print(x_train,x_test,y_train,y_test,sep=\"\\n\\n\")"
      ],
      "metadata": {
        "colab": {
          "base_uri": "https://localhost:8080/"
        },
        "id": "w5qxhYEprXP4",
        "outputId": "8cd9a62b-ca71-4bf1-84ef-2365621df797"
      },
      "execution_count": 8,
      "outputs": [
        {
          "output_type": "stream",
          "name": "stdout",
          "text": [
            "[[0.0 1.0 1.0 ... 42 30.0 0]\n",
            " [0.0 1.0 1.0 ... 34 30.8 0]\n",
            " [0.0 1.0 1.0 ... 42 24.6 0]\n",
            " ...\n",
            " [0.0 1.0 1.0 ... 40 25.1 0]\n",
            " [0.0 1.0 1.0 ... 19 35.5 0]\n",
            " [1.0 0.0 1.0 ... 33 18.5 1]]\n",
            "\n",
            "[[0.0 1.0 1.0 ... 52 30.2 1]\n",
            " [1.0 0.0 1.0 ... 47 29.4 1]\n",
            " [0.0 1.0 1.0 ... 48 40.6 2]\n",
            " ...\n",
            " [0.0 1.0 1.0 ... 18 33.8 1]\n",
            " [1.0 0.0 1.0 ... 38 30.7 1]\n",
            " [0.0 1.0 0.0 ... 51 22.4 0]]\n",
            "\n",
            "[22144.03 35491.64 19515.54 ...  5415.66  1646.43  4766.02]\n",
            "\n",
            "[ 9724.53  8547.69 45702.02 12950.07  9644.25  4500.34  2198.19 11436.74\n",
            "  7537.16  5425.02  6753.04 10493.95  7337.75  4185.1  18310.74 10702.64\n",
            " 12523.6   3490.55  6457.84 33475.82 23967.38 12643.38 23045.57 23065.42\n",
            "  1674.63  4667.61  3732.63  7682.67  3756.62  8413.46  8059.68 48970.25\n",
            " 12979.36 20630.28 14571.89  4137.52  8347.16 51194.56 40003.33  1880.49\n",
            "  5458.05  2867.12 20149.32 47496.49 36149.48 26018.95 19749.38  6940.91\n",
            "  4718.2  22192.44  2899.49 18838.7  23568.27 46255.11 24227.34  3268.85\n",
            "  2322.62  8827.21 14478.33 13112.6   1253.94 46718.16 13919.82  9630.4\n",
            " 10736.87  9880.07 32548.34 38746.36  3180.51  8162.72 13041.92 11554.22\n",
            " 16232.85 13887.97 13012.21 13217.09  7147.11  7731.43 20296.86 47403.88\n",
            " 11658.38 45863.21  2055.32  7441.05 41034.22 18972.5   3410.32  2699.57\n",
            " 12333.83 36837.47  6334.34 10214.64 17878.9   8515.76  4518.83  5148.55\n",
            " 42303.69 38998.55  5327.4  10602.39  1824.29  5377.46  4349.46 37742.58\n",
            " 32787.46  3353.47 10577.09  3556.92 11944.59 52590.83 12475.35  4266.17\n",
            "  9249.5  33732.69 48675.52  7729.65  1964.78  8444.47 12347.17  9301.89\n",
            " 42124.52  9991.04 14319.03  5428.73  7626.99  4906.41 23401.31 21098.55\n",
            " 48173.36  1917.32  8219.2   1725.55  5976.83  9361.33]\n"
          ]
        }
      ]
    },
    {
      "cell_type": "code",
      "source": [
        "from sklearn.linear_model import LinearRegression\n",
        "regressor=LinearRegression()\n",
        "regressor.fit(x_train,y_train)"
      ],
      "metadata": {
        "colab": {
          "base_uri": "https://localhost:8080/",
          "height": 74
        },
        "id": "XFz3Kxypvstr",
        "outputId": "69e098db-ac81-4e73-aa81-026c2477fb95"
      },
      "execution_count": 9,
      "outputs": [
        {
          "output_type": "execute_result",
          "data": {
            "text/plain": [
              "LinearRegression()"
            ],
            "text/html": [
              "<style>#sk-container-id-1 {color: black;background-color: white;}#sk-container-id-1 pre{padding: 0;}#sk-container-id-1 div.sk-toggleable {background-color: white;}#sk-container-id-1 label.sk-toggleable__label {cursor: pointer;display: block;width: 100%;margin-bottom: 0;padding: 0.3em;box-sizing: border-box;text-align: center;}#sk-container-id-1 label.sk-toggleable__label-arrow:before {content: \"▸\";float: left;margin-right: 0.25em;color: #696969;}#sk-container-id-1 label.sk-toggleable__label-arrow:hover:before {color: black;}#sk-container-id-1 div.sk-estimator:hover label.sk-toggleable__label-arrow:before {color: black;}#sk-container-id-1 div.sk-toggleable__content {max-height: 0;max-width: 0;overflow: hidden;text-align: left;background-color: #f0f8ff;}#sk-container-id-1 div.sk-toggleable__content pre {margin: 0.2em;color: black;border-radius: 0.25em;background-color: #f0f8ff;}#sk-container-id-1 input.sk-toggleable__control:checked~div.sk-toggleable__content {max-height: 200px;max-width: 100%;overflow: auto;}#sk-container-id-1 input.sk-toggleable__control:checked~label.sk-toggleable__label-arrow:before {content: \"▾\";}#sk-container-id-1 div.sk-estimator input.sk-toggleable__control:checked~label.sk-toggleable__label {background-color: #d4ebff;}#sk-container-id-1 div.sk-label input.sk-toggleable__control:checked~label.sk-toggleable__label {background-color: #d4ebff;}#sk-container-id-1 input.sk-hidden--visually {border: 0;clip: rect(1px 1px 1px 1px);clip: rect(1px, 1px, 1px, 1px);height: 1px;margin: -1px;overflow: hidden;padding: 0;position: absolute;width: 1px;}#sk-container-id-1 div.sk-estimator {font-family: monospace;background-color: #f0f8ff;border: 1px dotted black;border-radius: 0.25em;box-sizing: border-box;margin-bottom: 0.5em;}#sk-container-id-1 div.sk-estimator:hover {background-color: #d4ebff;}#sk-container-id-1 div.sk-parallel-item::after {content: \"\";width: 100%;border-bottom: 1px solid gray;flex-grow: 1;}#sk-container-id-1 div.sk-label:hover label.sk-toggleable__label {background-color: #d4ebff;}#sk-container-id-1 div.sk-serial::before {content: \"\";position: absolute;border-left: 1px solid gray;box-sizing: border-box;top: 0;bottom: 0;left: 50%;z-index: 0;}#sk-container-id-1 div.sk-serial {display: flex;flex-direction: column;align-items: center;background-color: white;padding-right: 0.2em;padding-left: 0.2em;position: relative;}#sk-container-id-1 div.sk-item {position: relative;z-index: 1;}#sk-container-id-1 div.sk-parallel {display: flex;align-items: stretch;justify-content: center;background-color: white;position: relative;}#sk-container-id-1 div.sk-item::before, #sk-container-id-1 div.sk-parallel-item::before {content: \"\";position: absolute;border-left: 1px solid gray;box-sizing: border-box;top: 0;bottom: 0;left: 50%;z-index: -1;}#sk-container-id-1 div.sk-parallel-item {display: flex;flex-direction: column;z-index: 1;position: relative;background-color: white;}#sk-container-id-1 div.sk-parallel-item:first-child::after {align-self: flex-end;width: 50%;}#sk-container-id-1 div.sk-parallel-item:last-child::after {align-self: flex-start;width: 50%;}#sk-container-id-1 div.sk-parallel-item:only-child::after {width: 0;}#sk-container-id-1 div.sk-dashed-wrapped {border: 1px dashed gray;margin: 0 0.4em 0.5em 0.4em;box-sizing: border-box;padding-bottom: 0.4em;background-color: white;}#sk-container-id-1 div.sk-label label {font-family: monospace;font-weight: bold;display: inline-block;line-height: 1.2em;}#sk-container-id-1 div.sk-label-container {text-align: center;}#sk-container-id-1 div.sk-container {/* jupyter's `normalize.less` sets `[hidden] { display: none; }` but bootstrap.min.css set `[hidden] { display: none !important; }` so we also need the `!important` here to be able to override the default hidden behavior on the sphinx rendered scikit-learn.org. See: https://github.com/scikit-learn/scikit-learn/issues/21755 */display: inline-block !important;position: relative;}#sk-container-id-1 div.sk-text-repr-fallback {display: none;}</style><div id=\"sk-container-id-1\" class=\"sk-top-container\"><div class=\"sk-text-repr-fallback\"><pre>LinearRegression()</pre><b>In a Jupyter environment, please rerun this cell to show the HTML representation or trust the notebook. <br />On GitHub, the HTML representation is unable to render, please try loading this page with nbviewer.org.</b></div><div class=\"sk-container\" hidden><div class=\"sk-item\"><div class=\"sk-estimator sk-toggleable\"><input class=\"sk-toggleable__control sk-hidden--visually\" id=\"sk-estimator-id-1\" type=\"checkbox\" checked><label for=\"sk-estimator-id-1\" class=\"sk-toggleable__label sk-toggleable__label-arrow\">LinearRegression</label><div class=\"sk-toggleable__content\"><pre>LinearRegression()</pre></div></div></div></div></div>"
            ]
          },
          "metadata": {},
          "execution_count": 9
        }
      ]
    },
    {
      "cell_type": "code",
      "source": [
        "y_pred=regressor.predict(x_test)\n",
        "print(y_pred)"
      ],
      "metadata": {
        "colab": {
          "base_uri": "https://localhost:8080/"
        },
        "id": "cN9asaa-wH0D",
        "outputId": "8e48d567-629f-4413-9e1f-d00357400ddd"
      },
      "execution_count": 11,
      "outputs": [
        {
          "output_type": "stream",
          "name": "stdout",
          "text": [
            "[11288.  9224. 38284. 16384.  6752.  4460.  1552. 14100.  8788.  7780.\n",
            "  4564. 10056.  8448.  3564. 28116. 10492. 11512.  6524.  8504. 27524.\n",
            " 33872. 14056. 11640. 31808.  4364.  9612.  1128.  9540.  3520. 10664.\n",
            "  8800. 40108. 15720. 13920. 24732.  5104. 12772. 30820. 33248.  3296.\n",
            "  4000.  4204. 30916. 39632. 27464.  4860. 10364.  8076.  3592.  9980.\n",
            "  5628.  3240. 33120. 38340. 15636.  7524.  5896.  9676.  9216. 11964.\n",
            "  2012. 39100. 15088. 11924. 14456. 13608. 26020. 32420.   660. 10440.\n",
            " 11984. 11724. 25364. 15264. 10956. 12580.  6736.  9808. 30136. 39120.\n",
            " 11964. 36820.  4472.  9524. 35192. 29080.  8244.  5152. 12172. 30512.\n",
            "  9980. 11496.  8228.  8648.  8812.  7244. 36364. 33288.  7416. 15152.\n",
            "  4224.  9016.  6060. 31652. 33200.  1804.  9196.  6408. 14936. 37268.\n",
            "  9980. 10696.  9980. 27344. 39932.  8924.   524.  9152. 15316.  9800.\n",
            " 35304.  7068. 16504. 10044.  7912.  2788. 32828. 31736. 39592.  5792.\n",
            "  9052.  3808.  7376.  9080.]\n"
          ]
        }
      ]
    },
    {
      "cell_type": "code",
      "source": [
        "from sklearn.metrics import r2_score\n",
        "r2=r2_score(y_test,y_pred)\n",
        "print(\"R squared error : \",r2)"
      ],
      "metadata": {
        "colab": {
          "base_uri": "https://localhost:8080/"
        },
        "id": "i71gmYRFwWMw",
        "outputId": "0904d166-cdc8-4c35-9297-e024aa1735f8"
      },
      "execution_count": 12,
      "outputs": [
        {
          "output_type": "stream",
          "name": "stdout",
          "text": [
            "R squared error :  0.8211231121023425\n"
          ]
        }
      ]
    }
  ]
}